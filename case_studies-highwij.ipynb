{
 "cells": [
  {
   "cell_type": "markdown",
   "metadata": {},
   "source": [
    "# Case studies"
   ]
  },
  {
   "cell_type": "code",
   "execution_count": 89,
   "metadata": {},
   "outputs": [],
   "source": [
    "from Building import Building\n",
    "%matplotlib inline\n",
    "import os\n",
    "import networkx as nx"
   ]
  },
  {
   "cell_type": "code",
   "execution_count": 4,
   "metadata": {},
   "outputs": [],
   "source": [
    "import pickle"
   ]
  },
  {
   "cell_type": "code",
   "execution_count": 145,
   "metadata": {},
   "outputs": [],
   "source": [
    "def high_wij(name):\n",
    "    imgs_folder = os.path.join(\"case_studies\", name)\n",
    "    B = pickle.load(open(os.path.join(imgs_folder, \"Building.p\"), \"rb\"))\n",
    "    N = B.network.number_of_nodes()\n",
    "    print(\"N =\", N)\n",
    "    m = B.network.number_of_edges()\n",
    "    print(\"m =\", m)\n",
    "    new_colors = []\n",
    "    for i, (u, v) in enumerate(B.network.edges):\n",
    "        if B.network.get_edge_data(u, v)['weight'] <= 2000:\n",
    "            B.network.remove_edge(u, v)\n",
    "        else:\n",
    "            new_colors.append(B.edge_color[i])\n",
    "    B.edge_color = new_colors\n",
    "    B.plot_net(style=\"edge_color\", filename=\"links_color_high_wij\", imgs_folder=imgs_folder, show=False, draw_nodes=False)\n",
    "    ccs = nx.connected_components(B.network)\n",
    "    ccs_list = list(ccs)\n",
    "    m = B.network.number_of_edges()\n",
    "    print(\"m_high =\", m)\n",
    "    numcc = len(ccs_list)\n",
    "    print(\"Number of connected components: \", numcc)\n",
    "    lcc = max([len(cc) for cc in ccs_list])\n",
    "    print(\"Size of largest connected components: \", lcc, \"(%.4f%%)\" %(float(lcc) / N * 100) )\n",
    "#     return B"
   ]
  },
  {
   "cell_type": "markdown",
   "metadata": {},
   "source": [
    "# Lyon - city center"
   ]
  },
  {
   "cell_type": "code",
   "execution_count": 146,
   "metadata": {},
   "outputs": [
    {
     "name": "stdout",
     "output_type": "stream",
     "text": [
      "N = 586\n",
      "m = 1131\n",
      "m_high = 155\n",
      "Number of connected components:  457\n",
      "Size of largest connected components:  67 (11.4334%)\n"
     ]
    }
   ],
   "source": [
    "name = \"Lyon_city_center_2021_1_29\"\n",
    "high_wij(name)"
   ]
  },
  {
   "cell_type": "markdown",
   "metadata": {},
   "source": [
    "## Montplaisir-Lumière"
   ]
  },
  {
   "cell_type": "code",
   "execution_count": 147,
   "metadata": {},
   "outputs": [
    {
     "name": "stdout",
     "output_type": "stream",
     "text": [
      "N = 1298\n",
      "m = 3553\n",
      "m_high = 173\n",
      "Number of connected components:  1133\n",
      "Size of largest connected components:  35 (2.6965%)\n"
     ]
    }
   ],
   "source": [
    "name = \"Montplaisir-Lumière_2020_11_12\"\n",
    "high_wij(name)"
   ]
  },
  {
   "cell_type": "markdown",
   "metadata": {},
   "source": [
    "## Charpennes"
   ]
  },
  {
   "cell_type": "code",
   "execution_count": 148,
   "metadata": {},
   "outputs": [
    {
     "name": "stdout",
     "output_type": "stream",
     "text": [
      "N = 776\n",
      "m = 1798\n",
      "m_high = 233\n",
      "Number of connected components:  576\n",
      "Size of largest connected components:  96 (12.3711%)\n"
     ]
    }
   ],
   "source": [
    "name =  \"Charpennes_2020_11_12\"\n",
    "high_wij(name)"
   ]
  },
  {
   "cell_type": "markdown",
   "metadata": {},
   "source": [
    "## Manhattan"
   ]
  },
  {
   "cell_type": "code",
   "execution_count": 149,
   "metadata": {},
   "outputs": [
    {
     "name": "stdout",
     "output_type": "stream",
     "text": [
      "N = 267\n",
      "m = 400\n",
      "m_high = 125\n",
      "Number of connected components:  145\n",
      "Size of largest connected components:  41 (15.3558%)\n"
     ]
    }
   ],
   "source": [
    "name = \"Manhattan_2020_11_12\"\n",
    "high_wij(name)"
   ]
  },
  {
   "cell_type": "markdown",
   "metadata": {},
   "source": [
    "## Lyon"
   ]
  },
  {
   "cell_type": "code",
   "execution_count": 150,
   "metadata": {},
   "outputs": [
    {
     "name": "stdout",
     "output_type": "stream",
     "text": [
      "N = 12344\n",
      "m = 30097\n",
      "m_high = 1425\n",
      "Number of connected components:  11064\n",
      "Size of largest connected components:  124 (1.0045%)\n"
     ]
    }
   ],
   "source": [
    "name = \"Lyon_2020_11_12\"\n",
    "B = high_wij(name)"
   ]
  },
  {
   "cell_type": "code",
   "execution_count": null,
   "metadata": {},
   "outputs": [],
   "source": []
  }
 ],
 "metadata": {
  "kernelspec": {
   "display_name": "Python 3",
   "language": "python",
   "name": "python3"
  },
  "language_info": {
   "codemirror_mode": {
    "name": "ipython",
    "version": 3
   },
   "file_extension": ".py",
   "mimetype": "text/x-python",
   "name": "python",
   "nbconvert_exporter": "python",
   "pygments_lexer": "ipython3",
   "version": "3.6.10"
  }
 },
 "nbformat": 4,
 "nbformat_minor": 2
}
