{
 "cells": [
  {
   "cell_type": "markdown",
   "metadata": {},
   "source": [
    "# Case studies"
   ]
  },
  {
   "cell_type": "code",
   "execution_count": 1,
   "metadata": {},
   "outputs": [],
   "source": [
    "from Building import Building\n",
    "%matplotlib inline\n",
    "import os\n",
    "import datetime"
   ]
  },
  {
   "cell_type": "code",
   "execution_count": 2,
   "metadata": {},
   "outputs": [],
   "source": [
    "def date():\n",
    "    year = datetime.datetime.now().year\n",
    "    month = datetime.datetime.now().month\n",
    "    day = datetime.datetime.now().day\n",
    "    date = \"%s_%s_%s\" %(year, month, day)\n",
    "    return date"
   ]
  },
  {
   "cell_type": "code",
   "execution_count": 3,
   "metadata": {},
   "outputs": [],
   "source": [
    "def routine(B):\n",
    "    B.download_buildings(save=True, folder_path=os.path.join(imgs_folder, \"raw_data\"))\n",
    "    B.plot_buildings(imgs_folder=imgs_folder, show=False)\n",
    "    buffer = 0.01 # 1 cm\n",
    "    B.merge_and_convex(buffer=buffer,plot=True, imgs_folder=imgs_folder, show=False)\n",
    "    B.create_gif_merging(imgs_folder=imgs_folder)\n",
    "    B.plot_merged_buildings(imgs_folder=imgs_folder, show=False)\n",
    "    B.assign_nodes()\n",
    "    B.assign_edges_weights(distance_threshold=distance_threshold)\n",
    "    B.assign_network()\n",
    "    B.plot_net(imgs_folder=imgs_folder,  filename=\"node_color\", show=False)\n",
    "    B.plot_buildings_color(imgs_folder=imgs_folder, show=False)\n",
    "    B.plot_net(style=\"edge_color\", filename=\"links_color\", imgs_folder=imgs_folder, show=False)\n",
    "    B.create_database(folder_path=imgs_folder)\n",
    "    B.report_buildings_stats(folder_path=imgs_folder)\n",
    "    B.plot_neighborhood_watch_distribution(imgs_folder=imgs_folder, show=False)\n",
    "    B.plot_link_weight_distribution(imgs_folder=imgs_folder, show=False)\n",
    "    B.plot_link_weight_distribution(imgs_folder=imgs_folder, logscale=True, filename=\"link_weight_distribution_log\", show=False)\n",
    "    B.report_stats_highwij(filepath=os.path.join(imgs_folder, \"stats_highwij.txt\"))\n",
    "    B.save_config(filename=os.path.join(imgs_folder, \"config.json\"))\n",
    "    B.dump(filepath=os.path.join(imgs_folder, \"Building.p\"))\n",
    "#     B.save_shapes_full_empty(folder=imgs_folder, name=name)"
   ]
  },
  {
   "cell_type": "markdown",
   "metadata": {},
   "source": [
    "# Lyon - city center"
   ]
  },
  {
   "cell_type": "code",
   "execution_count": 7,
   "metadata": {},
   "outputs": [],
   "source": [
    "point_coords = (45.7618026, 4.8273098)\n",
    "distance = 1000 # in meters\n",
    "imgs_folder = os.path.join(\"case_studies\", \"Lyon_city_center_\" + date())\n",
    "distance_threshold = 30 # in meters"
   ]
  },
  {
   "cell_type": "code",
   "execution_count": 8,
   "metadata": {},
   "outputs": [
    {
     "name": "stdout",
     "output_type": "stream",
     "text": [
      "0 5246\n",
      "1 936\n",
      "2 777\n",
      "3 747\n",
      "4 728\n",
      "5 706\n",
      "6 693\n",
      "7 684\n",
      "8 681\n",
      "9 674\n",
      "10 664\n",
      "11 646\n",
      "12 640\n",
      "13 635\n",
      "14 630\n",
      "15 625\n",
      "16 616\n",
      "17 612\n",
      "18 609\n",
      "19 602\n",
      "20 599\n",
      "21 596\n",
      "22 596\n"
     ]
    },
    {
     "name": "stderr",
     "output_type": "stream",
     "text": [
      "C:\\Users\\Lorenza\\Documents\\building-network\\Building.py:591: UserWarning: This figure includes Axes that are not compatible with tight_layout, so results might be incorrect.\n",
      "  plt.tight_layout()\n",
      "C:\\Users\\Lorenza\\Documents\\building-network\\Building.py:624: UserWarning: This figure includes Axes that are not compatible with tight_layout, so results might be incorrect.\n",
      "  plt.tight_layout()\n",
      "C:\\Users\\Lorenza\\Documents\\building-network\\Building.py:624: UserWarning: This figure includes Axes that are not compatible with tight_layout, so results might be incorrect.\n",
      "  plt.tight_layout()\n"
     ]
    }
   ],
   "source": [
    "B = Building(point_coords, distance=distance)\n",
    "routine(B)"
   ]
  },
  {
   "cell_type": "code",
   "execution_count": 9,
   "metadata": {},
   "outputs": [],
   "source": [
    "B.create_gif_merging(imgs_folder=imgs_folder)"
   ]
  },
  {
   "cell_type": "markdown",
   "metadata": {},
   "source": [
    "## Montplaisir-Lumière"
   ]
  },
  {
   "cell_type": "code",
   "execution_count": 4,
   "metadata": {},
   "outputs": [],
   "source": [
    "point_coords = (45.745591, 4.871167) # latitude and longitude of Montplaisir-Lumière, Lyon (France)\n",
    "distance = 1000 # in meters\n",
    "imgs_folder = os.path.join(\"case_studies\", \"Montplaisir-Lumière_\" + date())\n",
    "distance_threshold = 30 # in meters"
   ]
  },
  {
   "cell_type": "code",
   "execution_count": null,
   "metadata": {
    "scrolled": true
   },
   "outputs": [],
   "source": [
    "B = Building(point_coords, distance=distance)\n",
    "routine(B)"
   ]
  },
  {
   "cell_type": "markdown",
   "metadata": {},
   "source": [
    "## Charpennes"
   ]
  },
  {
   "cell_type": "code",
   "execution_count": null,
   "metadata": {},
   "outputs": [],
   "source": [
    "point_coords = (45.7711641,4.8658947)\n",
    "distance = 1000 # in meters\n",
    "imgs_folder = os.path.join(\"case_studies\", \"Charpennes_\" + date())\n",
    "distance_threshold = 30 # in meters"
   ]
  },
  {
   "cell_type": "code",
   "execution_count": null,
   "metadata": {},
   "outputs": [],
   "source": [
    "B = Building(point_coords, distance=distance)\n",
    "routine(B)"
   ]
  },
  {
   "cell_type": "markdown",
   "metadata": {},
   "source": [
    "## Manhattan"
   ]
  },
  {
   "cell_type": "markdown",
   "metadata": {},
   "source": [
    "### $\\delta$ = 30 m"
   ]
  },
  {
   "cell_type": "code",
   "execution_count": null,
   "metadata": {},
   "outputs": [],
   "source": [
    "point_coords =  (40.763582, -73.988943)\n",
    "distance = 1000 # in meters\n",
    "imgs_folder = os.path.join(\"case_studies\", \"Manhattan_\" + date())\n",
    "distance_threshold = 30 # in meters"
   ]
  },
  {
   "cell_type": "code",
   "execution_count": null,
   "metadata": {},
   "outputs": [],
   "source": [
    "B = Building(point_coords, distance=distance)\n",
    "routine(B)"
   ]
  },
  {
   "cell_type": "markdown",
   "metadata": {},
   "source": [
    "### $\\delta$ = 25 m"
   ]
  },
  {
   "cell_type": "code",
   "execution_count": null,
   "metadata": {},
   "outputs": [],
   "source": [
    "point_coords =  (40.763582, -73.988943)\n",
    "distance = 1000 # in meters\n",
    "imgs_folder = os.path.join(\"case_studies\", \"Manhattan_delta25_\" + date())\n",
    "distance_threshold = 25 # in meters"
   ]
  },
  {
   "cell_type": "code",
   "execution_count": null,
   "metadata": {},
   "outputs": [],
   "source": [
    "B = Building(point_coords, distance=distance)\n",
    "routine(B)"
   ]
  },
  {
   "cell_type": "markdown",
   "metadata": {},
   "source": [
    "### $\\delta$ = 35 m"
   ]
  },
  {
   "cell_type": "code",
   "execution_count": null,
   "metadata": {},
   "outputs": [],
   "source": [
    "point_coords =  (40.763582, -73.988943)\n",
    "distance = 1000 # in meters\n",
    "imgs_folder = os.path.join(\"case_studies\", \"Manhattan_delta35_\" + date())\n",
    "distance_threshold = 35 # in meters"
   ]
  },
  {
   "cell_type": "code",
   "execution_count": null,
   "metadata": {},
   "outputs": [],
   "source": [
    "B = Building(point_coords, distance=distance)\n",
    "routine(B)"
   ]
  },
  {
   "cell_type": "markdown",
   "metadata": {},
   "source": [
    "## Lyon"
   ]
  },
  {
   "cell_type": "code",
   "execution_count": null,
   "metadata": {},
   "outputs": [],
   "source": [
    "place_name = \"Lyon\"\n",
    "imgs_folder = os.path.join(\"case_studies\", \"Lyon_\" + date())\n",
    "distance_threshold = 30 # in meters"
   ]
  },
  {
   "cell_type": "code",
   "execution_count": null,
   "metadata": {},
   "outputs": [],
   "source": [
    "B = Building(place_name=place_name)\n",
    "routine(B)"
   ]
  },
  {
   "cell_type": "code",
   "execution_count": null,
   "metadata": {},
   "outputs": [],
   "source": []
  }
 ],
 "metadata": {
  "kernelspec": {
   "display_name": "Python 3",
   "language": "python",
   "name": "python3"
  },
  "language_info": {
   "codemirror_mode": {
    "name": "ipython",
    "version": 3
   },
   "file_extension": ".py",
   "mimetype": "text/x-python",
   "name": "python",
   "nbconvert_exporter": "python",
   "pygments_lexer": "ipython3",
   "version": "3.6.10"
  }
 },
 "nbformat": 4,
 "nbformat_minor": 2
}
